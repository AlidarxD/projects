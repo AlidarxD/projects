{
  "nbformat": 4,
  "nbformat_minor": 0,
  "metadata": {
    "colab": {
      "provenance": [],
      "authorship_tag": "ABX9TyM9gynLGL+qMeRnHZ39YcLv",
      "include_colab_link": true
    },
    "kernelspec": {
      "name": "python3",
      "display_name": "Python 3"
    },
    "language_info": {
      "name": "python"
    }
  },
  "cells": [
    {
      "cell_type": "markdown",
      "metadata": {
        "id": "view-in-github",
        "colab_type": "text"
      },
      "source": [
        "<a href=\"https://colab.research.google.com/github/AlidarxD/projects/blob/main/Phonebook.ipynb\" target=\"_parent\"><img src=\"https://colab.research.google.com/assets/colab-badge.svg\" alt=\"Open In Colab\"/></a>"
      ]
    },
    {
      "cell_type": "code",
      "execution_count": null,
      "metadata": {
        "id": "tH-Z2vbw3R9X"
      },
      "outputs": [],
      "source": [
        "def add_contact(add, nom):\n",
        "  if add not in nom:\n",
        "      nom.append(add)\n",
        "      return \"Name added successfully.\"\n",
        "  else:\n",
        "      return \"Name already exists.\"\n",
        "def Show_all_contacts(nom):\n",
        "  return nom\n",
        "\n",
        "def Find_contact(tofind, nom):\n",
        "    found_names = list(name for name in nom if tofind in name)\n",
        "    return found_names\n",
        "\n",
        "def Remove_contact(toremove, nom):\n",
        "  removed_contacts = list(name for name in nom if toremove in name)\n",
        "  nom[:] = list(name for name in nom if toremove not in name)\n",
        "  return removed_contacts\n",
        "\n",
        "def Edit_contacts(toedit, nom):\n",
        "    editing_contacts = list(name for name in nom if toedit in name)\n",
        "    if editing_contacts:\n",
        "        editing_contacts = editing_contacts[0].split(\"_\")\n",
        "        editing_contacts[0] = new_name\n",
        "        editing_contacts = \"_\".join(editing_contacts)\n",
        "        return editing_contacts\n",
        "    return None\n",
        "\n",
        "\n",
        "\n",
        "\n",
        "nom = [\"Ali_87757781356\", \"Sam_87077123450\"]\n",
        "while True:\n",
        "  user_choice = input(\"\"\"\n",
        "1. Add contact\n",
        "2. Show all contacts\n",
        "3. Find contact\n",
        "4. Remove contact\n",
        "5. Edit contact\n",
        "Enter :\"\"\")\n",
        "\n",
        "  if user_choice == '1':\n",
        "      new_name = input(\"Enter the new name: \")\n",
        "      result = add_contact(new_name, nom)\n",
        "      print(result)\n",
        "  elif user_choice == \"2\":\n",
        "      print(nom)\n",
        "  elif user_choice == '3':\n",
        "      contact_to_find = input(\"Enter a part of the name to find: \")\n",
        "      result_of_finding = Find_contact(contact_to_find, nom)\n",
        "      if result_of_finding:\n",
        "          print(\"Contacts found:\")\n",
        "          for contact in result_of_finding:\n",
        "              print(contact)\n",
        "      else:\n",
        "          print(\"No matching contacts found.\")\n",
        "  elif user_choice == '4':\n",
        "    remove_name = input(\"Введите имя для удаления: \")\n",
        "    result_removing = Remove_contact(remove_name, nom)\n",
        "    if result_removing:\n",
        "        print(\"Контакты удалены:\")\n",
        "        for contact in result_removing:\n",
        "            print(contact)\n",
        "    else:\n",
        "        print(\"Не найдено совпадений для удаления.\")\n",
        "  elif user_choice == '5':\n",
        "    contact_to_edit = input(\"Enter the name to edit :\")\n",
        "    editing_contact = Edit_contacts(contact_to_edit, nom)\n",
        "    if editing_contact:\n",
        "        edit_menu = input(\"\"\"\n",
        "            Menu:\n",
        "            1 - Change name\n",
        "            2 - Change the first number\n",
        "          \"\"\")\n",
        "        if edit_menu == \"1\":\n",
        "            new_name = input(\"Enter the new name :\")\n",
        "            # Change the name\n",
        "            editing_contact = editing_contact.split(\"_\")[0]\n",
        "            editing_contact = new_name\n",
        "            # Combine the name back into a string\n",
        "            editing_contact = \"_\".join(editing_contact)\n",
        "        elif edit_menu == \"2\":\n",
        "            new_number = input(\"Enter the new number :\")\n",
        "            editing_contact = editing_contact.split(\"_\")[1]\n",
        "            editing_contact = new_number\n",
        "            # Combine the name and number back into a string\n",
        "            editing_contact = \"_\".join(editing_contact)\n",
        "\n",
        "\n",
        "print(\"Оставшиеся контакты:\", nom)"
      ]
    }
  ]
}